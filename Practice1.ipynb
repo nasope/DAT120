{
 "cells": [
  {
   "cell_type": "code",
   "execution_count": 2,
   "id": "47d1a6db-66a9-487b-b60f-bf8823a94d65",
   "metadata": {},
   "outputs": [
    {
     "name": "stdin",
     "output_type": "stream",
     "text": [
      "skriv inn en distanse i Km:  1.852\n"
     ]
    },
    {
     "name": "stdout",
     "output_type": "stream",
     "text": [
      "Lengden fra kilometer er 1.0 Nautiske mil\n"
     ]
    }
   ],
   "source": [
    "NAUTISK_MIL_I_KM = 1.852#Km\n",
    "kilometer = float(input(\"skriv inn en distanse i Km: \"))\n",
    "KmTilNautiske = kilometer / NAUTISK_MIL_I_KM\n",
    "print(\"Lengden fra kilometer er \" + str(KmTilNautiske) + \" Nautiske mil\")"
   ]
  },
  {
   "cell_type": "code",
   "execution_count": null,
   "id": "e82ddd92-fd26-4c34-80fc-510ddb8a29d9",
   "metadata": {},
   "outputs": [],
   "source": [
    "# import math\n",
    "def hypotenusTilKatetEnhet(hypotenus):\n",
    "    return math.sqrt(hypotenus*hypotenus / 337) \n",
    "\n",
    "diagonal = float(input(\"Skriv inn diagonal som Tommer: \"))\n",
    "A = hypotenusTilKatetEnhet(diagonal)\n",
    "lengde = 16*A\n",
    "hoyde = 9*A\n",
    "\n",
    "print(\"Høyden er \"+str(hoyde)+\" Tommer\")\n",
    "print(\"Lengden er \"+str(lengde)+\" Tommer\")"
   ]
  },
  {
   "cell_type": "code",
   "execution_count": 6,
   "id": "280f0287-eb9a-4787-9878-8f71af3fc581",
   "metadata": {},
   "outputs": [
    {
     "name": "stdin",
     "output_type": "stream",
     "text": [
      "Skriv inn diagonal som Tommer:  20\n"
     ]
    },
    {
     "name": "stdout",
     "output_type": "stream",
     "text": [
      "Høyden er 24.905270973333995Cm\n",
      "Lengden er 44.2760372859271Cm\n"
     ]
    }
   ],
   "source": [
    "import math\n",
    "TOMME = 2.54#Cm\n",
    "\n",
    "def hypotenusTilKatetEnhet(hypotenus):\n",
    "    hypotenusCm = hypotenus*TOMME\n",
    "    return math.sqrt(hypotenusCm*hypotenusCm / 337) \n",
    "\n",
    "diagonal = float(input(\"Skriv inn diagonal som Tommer: \"))\n",
    "A = hypotenusTilKatetEnhet(diagonal)\n",
    "lengde = 16*A\n",
    "hoyde = 9*A\n",
    "\n",
    "print(\"Høyden er \"+str(hoyde)+\"Cm\")\n",
    "print(\"Lengden er \"+str(lengde)+\"Cm\")"
   ]
  },
  {
   "cell_type": "code",
   "execution_count": 14,
   "id": "0c919809-135d-4842-ba8a-f0f513ce5bd1",
   "metadata": {},
   "outputs": [
    {
     "name": "stdin",
     "output_type": "stream",
     "text": [
      "skriv inn det første tallet av forholdet 16\n",
      "skriv inn det andre tallet av forholdet 9\n",
      "Skriv inn diagonal som Tommer:  20\n"
     ]
    },
    {
     "name": "stdout",
     "output_type": "stream",
     "text": [
      "Høyden er 24.905270973333995Cm\n",
      "Lengden er 44.2760372859271Cm\n"
     ]
    }
   ],
   "source": [
    "import math\n",
    "TOMME = 2.54#Cm\n",
    "\n",
    "def hypotenusTilKatetEnhet(x1, x2, hypotenus):\n",
    "    hypotenusCm = hypotenus*TOMME\n",
    "    return math.sqrt(hypotenusCm*hypotenusCm / (x1**2 + x2**2)) \n",
    "\n",
    "f1 = float(input(\"skriv inn det første tallet av forholdet\"))\n",
    "\n",
    "f2 = float(input(\"skriv inn det andre tallet av forholdet\"))\n",
    "\n",
    "diagonal = float(input(\"Skriv inn diagonal som Tommer: \"))\n",
    "A = hypotenusTilKatetEnhet(f1,f2,diagonal)\n",
    "lengde = f1*A\n",
    "hoyde = f2*A\n",
    "\n",
    "print(\"Høyden er \"+str(hoyde)+\"Cm\")\n",
    "print(\"Lengden er \"+str(lengde)+\"Cm\")"
   ]
  },
  {
   "cell_type": "code",
   "execution_count": null,
   "id": "2c0a6980-236c-4325-a0bb-b6e0df50133d",
   "metadata": {},
   "outputs": [],
   "source": []
  }
 ],
 "metadata": {
  "kernelspec": {
   "display_name": "Python 3 (ipykernel)",
   "language": "python",
   "name": "python3"
  },
  "language_info": {
   "codemirror_mode": {
    "name": "ipython",
    "version": 3
   },
   "file_extension": ".py",
   "mimetype": "text/x-python",
   "name": "python",
   "nbconvert_exporter": "python",
   "pygments_lexer": "ipython3",
   "version": "3.10.9"
  }
 },
 "nbformat": 4,
 "nbformat_minor": 5
}
