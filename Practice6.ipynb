{
 "cells": [
  {
   "cell_type": "code",
   "execution_count": 27,
   "id": "048ffb10-8fdb-432b-a457-c93efc7cdac2",
   "metadata": {},
   "outputs": [],
   "source": [
    "def PostGenerator(navn: str, gateAdr: str, postNr: str, poststed: str) -> None:\n",
    "    print(navn)\n",
    "    print(gateAdr)\n",
    "    print(postNr, end=\" \") if postNr.isdecimal() else print(\"[NaN]\", end=\" \")\n",
    "    print(poststed)"
   ]
  },
  {
   "cell_type": "code",
   "execution_count": 28,
   "id": "6dcda0ae-c84e-4cd4-bf54-7d0099ab1573",
   "metadata": {},
   "outputs": [
    {
     "name": "stdout",
     "output_type": "stream",
     "text": [
      "Nathaniel\n",
      "Grinigata 10 D\n",
      "4317 SANDNES\n",
      "Nathaniel\n",
      "Grinigata 10 D\n",
      "[NaN] SANDNES\n"
     ]
    }
   ],
   "source": [
    "PostGenerator(\"Nathaniel\", \"Grinigata 10 D\", \"4317\", \"SANDNES\")\n",
    "PostGenerator(\"Nathaniel\", \"Grinigata 10 D\", \"4317AbC\", \"SANDNES\")"
   ]
  },
  {
   "cell_type": "code",
   "execution_count": null,
   "id": "f86985c7-7755-484b-a649-7139624f5d22",
   "metadata": {},
   "outputs": [
    {
     "name": "stdin",
     "output_type": "stream",
     "text": [
      "Skriv inn navnet på den første valutaen:  nok\n",
      "Skriv inn navnet på den andre valutaen:  dkk\n",
      "Skriv inn kursen fra nok til dkk:  0.7\n"
     ]
    },
    {
     "name": "stdout",
     "output_type": "stream",
     "text": [
      "Skriv inn 0 når du ønsker å avslutte programmet\n"
     ]
    }
   ],
   "source": [
    "def safeinput(text):\n",
    "    while True:\n",
    "        try:\n",
    "            return float(input(text))\n",
    "        except:\n",
    "            print(\"Du må skrive inn et gyldig flyttall!\")\n",
    "\n",
    "valuta1 = input(\"Skriv inn navnet på den første valutaen: \")\n",
    "valuta2 = input(\"Skriv inn navnet på den andre valutaen: \")\n",
    "kursen = safeinput(\"Skriv inn kursen fra \"+str(valuta1)+\" til \"+str(valuta2)+\": \")\n",
    "\n",
    "print(\"Skriv inn 0 når du ønsker å avslutte programmet\")\n",
    "while True:\n",
    "    val = safeinput(\"Skriv inn en verdi du ønsker å konvertere: \")\n",
    "    if val == 0:\n",
    "        break\n",
    "    \n",
    "    print(str(round(val,2))+\" \"+valuta1+\" blir til \"+str(round(val*kursen,2))+\" \"+valuta2)\n",
    "\n",
    "print(\"Program avsulttet\")"
   ]
  },
  {
   "cell_type": "code",
   "execution_count": 26,
   "id": "7faa544d-1e1a-4060-8c02-51dbbc4d499a",
   "metadata": {},
   "outputs": [
    {
     "name": "stdin",
     "output_type": "stream",
     "text": [
      "Skriv inn navn på filen:  Prac6TestFail\n"
     ]
    },
    {
     "name": "stdout",
     "output_type": "stream",
     "text": [
      "2.4298056155507557\n",
      "5.021598272138229\n",
      "6.479481641468682\n",
      "0.0\n",
      "9.1792656587473\n",
      "Kan ikke konvertere, orginalt '-' på linje 6\n",
      "7.12742980561555\n",
      "7.829373650107991\n",
      "6.047516198704103\n",
      "Kan ikke konvertere, orginalt '-' på linje 10\n",
      "5.453563714902807\n",
      "7.667386609071274\n",
      "9.881209503239742\n",
      "Kan ikke konvertere, orginalt 'NaN' på linje 14\n",
      "2.9697624190064795\n",
      "1.7278617710583153\n",
      "4.103671706263499\n",
      "5.291576673866091\n"
     ]
    }
   ],
   "source": [
    "import math\n",
    "\n",
    "def NmTilKm(avstand: float) -> float:\n",
    "    NAUTISK_MIL_I_KM = 1.852#Km\n",
    "    return (avstand / NAUTISK_MIL_I_KM)\n",
    "\n",
    "def readFile() -> list:\n",
    "    file = None\n",
    "    \n",
    "    while True:\n",
    "        try:\n",
    "            file = open(input(\"Skriv inn navn på filen: \")+\".txt\", \"r\")\n",
    "            break\n",
    "        except:\n",
    "            print(\"Navnet du skrev inn, finnes ikke\")\n",
    "            \n",
    "    data = [line.strip() for line in file]\n",
    "    file.close()\n",
    "    return data\n",
    "\n",
    "file = readFile()\n",
    "for i in range(len(file)):\n",
    "    isNumber = True\n",
    "    try:\n",
    "        _ = float(file[i])\n",
    "    except:\n",
    "        isNumber = False\n",
    "    \n",
    "    if isNumber and math.isnan(float(file[i])):\n",
    "        isNumber = False\n",
    "    \n",
    "    if isNumber:\n",
    "        print(NmTilKm(float(file[i])))\n",
    "    else:\n",
    "        print(\"Kan ikke konvertere, orginalt '\"+file[i]+\"' på linje \"+str(i+1))\n",
    "    \n",
    "    "
   ]
  },
  {
   "cell_type": "code",
   "execution_count": null,
   "id": "463e7424-d5ac-488c-abb5-b7a4d3c01868",
   "metadata": {},
   "outputs": [],
   "source": []
  }
 ],
 "metadata": {
  "kernelspec": {
   "display_name": "Python 3 (ipykernel)",
   "language": "python",
   "name": "python3"
  },
  "language_info": {
   "codemirror_mode": {
    "name": "ipython",
    "version": 3
   },
   "file_extension": ".py",
   "mimetype": "text/x-python",
   "name": "python",
   "nbconvert_exporter": "python",
   "pygments_lexer": "ipython3",
   "version": "3.10.9"
  }
 },
 "nbformat": 4,
 "nbformat_minor": 5
}
