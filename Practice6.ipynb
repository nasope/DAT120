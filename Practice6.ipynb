{
 "cells": [
  {
   "cell_type": "code",
   "execution_count": 25,
   "id": "048ffb10-8fdb-432b-a457-c93efc7cdac2",
   "metadata": {},
   "outputs": [
    {
     "name": "stdout",
     "output_type": "stream",
     "text": [
      "Nathaniel\n",
      "Grinigata 10 D\n",
      "4317 SANDNES\n",
      "Nathaniel\n",
      "Grinigata 10 D\n",
      "[NaN] SANDNES\n"
     ]
    }
   ],
   "source": [
    "def PostGenerator(navn: str, gateAdr: str, postNr: str, poststed: str) -> None:\n",
    "    print(navn)\n",
    "    print(gateAdr)\n",
    "    print(postNr, end=\" \") if postNr.isdecimal() else print(\"[NaN]\", end=\" \")\n",
    "    print(poststed)\n",
    "\n",
    "PostGenerator(\"Nathaniel\", \"Grinigata 10 D\", \"4317\", \"SANDNES\")\n",
    "PostGenerator(\"Nathaniel\", \"Grinigata 10 D\", \"4317AbC\", \"SANDNES\")"
   ]
  },
  {
   "cell_type": "code",
   "execution_count": 26,
   "id": "f86985c7-7755-484b-a649-7139624f5d22",
   "metadata": {},
   "outputs": [
    {
     "name": "stdin",
     "output_type": "stream",
     "text": [
      "Skriv inn navnet på den første valutaen:  NOK\n",
      "Skriv inn navnet på den andre valutaen:  DKK\n",
      "Skriv inn kursen fra NOK til DKK:  jf\n"
     ]
    },
    {
     "name": "stdout",
     "output_type": "stream",
     "text": [
      "Du må skrive inn et gyldig flyttall!\n"
     ]
    },
    {
     "name": "stdin",
     "output_type": "stream",
     "text": [
      "Skriv inn kursen fra NOK til DKK:  0.7\n"
     ]
    },
    {
     "name": "stdout",
     "output_type": "stream",
     "text": [
      "Skriv inn 0 når du ønsker å avslutte programmet\n"
     ]
    },
    {
     "name": "stdin",
     "output_type": "stream",
     "text": [
      "Skriv inn en verdi du ønsker å konvertere:  ji\n"
     ]
    },
    {
     "name": "stdout",
     "output_type": "stream",
     "text": [
      "Du må skrive inn et gyldig flyttall!\n"
     ]
    },
    {
     "name": "stdin",
     "output_type": "stream",
     "text": [
      "Skriv inn en verdi du ønsker å konvertere:  2\n"
     ]
    },
    {
     "name": "stdout",
     "output_type": "stream",
     "text": [
      "2.0 NOK blir til 1.4 DKK\n"
     ]
    },
    {
     "name": "stdin",
     "output_type": "stream",
     "text": [
      "Skriv inn en verdi du ønsker å konvertere:  f\n"
     ]
    },
    {
     "name": "stdout",
     "output_type": "stream",
     "text": [
      "Du må skrive inn et gyldig flyttall!\n"
     ]
    },
    {
     "name": "stdin",
     "output_type": "stream",
     "text": [
      "Skriv inn en verdi du ønsker å konvertere:  0\n"
     ]
    },
    {
     "name": "stdout",
     "output_type": "stream",
     "text": [
      "Program avsulttet\n"
     ]
    }
   ],
   "source": [
    "def safeinput(text):\n",
    "    while True:\n",
    "        try:\n",
    "            return float(input(text))\n",
    "        except:\n",
    "            print(\"Du må skrive inn et gyldig flyttall!\")\n",
    "\n",
    "valuta1 = input(\"Skriv inn navnet på den første valutaen: \")\n",
    "valuta2 = input(\"Skriv inn navnet på den andre valutaen: \")\n",
    "kursen = safeinput(\"Skriv inn kursen fra \"+str(valuta1)+\" til \"+str(valuta2)+\": \")\n",
    "\n",
    "print(\"Skriv inn 0 når du ønsker å avslutte programmet\")\n",
    "while True:\n",
    "    val = safeinput(\"Skriv inn en verdi du ønsker å konvertere: \")\n",
    "    if val == 0:\n",
    "        break\n",
    "    \n",
    "    print(str(round(val,2))+\" \"+valuta1+\" blir til \"+str(round(val*kursen,2))+\" \"+valuta2)\n",
    "\n",
    "print(\"Program avsulttet\")"
   ]
  },
  {
   "cell_type": "code",
   "execution_count": 27,
   "id": "7faa544d-1e1a-4060-8c02-51dbbc4d499a",
   "metadata": {},
   "outputs": [
    {
     "name": "stdin",
     "output_type": "stream",
     "text": [
      "Skriv inn navn på filen:  Prac\n"
     ]
    },
    {
     "name": "stdout",
     "output_type": "stream",
     "text": [
      "Navnet du skrev inn, finnes ikke\n"
     ]
    },
    {
     "name": "stdin",
     "output_type": "stream",
     "text": [
      "Skriv inn navn på filen:  Prac6Test\n"
     ]
    },
    {
     "name": "stdout",
     "output_type": "stream",
     "text": [
      "2.4298056155507557\n",
      "5.021598272138229\n",
      "6.479481641468682\n",
      "9.1792656587473\n",
      "7.12742980561555\n",
      "7.829373650107991\n",
      "6.047516198704103\n",
      "5.453563714902807\n",
      "7.667386609071274\n",
      "9.881209503239742\n",
      "2.9697624190064795\n",
      "1.7278617710583153\n",
      "4.103671706263499\n",
      "5.291576673866091\n"
     ]
    }
   ],
   "source": [
    "import math\n",
    "\n",
    "def NmTilKm(avstand: float) -> float:\n",
    "    NAUTISK_MIL_I_KM = 1.852#Km\n",
    "    return (avstand / NAUTISK_MIL_I_KM)\n",
    "\n",
    "def readFile() -> list:\n",
    "    file = None\n",
    "    name = \"\"\n",
    "    while True:\n",
    "        try:\n",
    "            name = input(\"Skriv inn navn på filen: \")\n",
    "            file = open(name+\".txt\", \"r\")\n",
    "            break\n",
    "        except:\n",
    "            print(\"Navnet du skrev inn, finnes ikke\")\n",
    "            \n",
    "    data = [line.strip() for line in file]\n",
    "    file.close()\n",
    "    return data, name\n",
    "\n",
    "def WriteFile(name, data) -> None:\n",
    "    file = open(name+\"Copy.txt\", \"w\")\n",
    "    _ = [file.write(line+\"\\n\") for line in data]\n",
    "    file.close()\n",
    "    return\n",
    "\n",
    "file, name = readFile()\n",
    "handledData = []\n",
    "\n",
    "for i in range(len(file)):\n",
    "    isNumber = True\n",
    "    try:\n",
    "        _ = float(file[i])\n",
    "    except:\n",
    "        isNumber = False\n",
    "    \n",
    "    if isNumber and math.isnan(float(file[i])):\n",
    "        isNumber = False\n",
    "    \n",
    "    if isNumber:\n",
    "        handledData.append(str(NmTilKm(float(file[i]))))\n",
    "    else:\n",
    "        handledData.append(\"Kan ikke konvertere, orginalt '\"+file[i]+\"' på linje \"+str(i+1))\n",
    "\n",
    "_ = [print(line) for line in handledData]\n",
    "WriteFile(name, handledData)"
   ]
  },
  {
   "cell_type": "code",
   "execution_count": null,
   "id": "4d2db517-f536-45f4-8231-ea771cdaff8b",
   "metadata": {},
   "outputs": [],
   "source": []
  }
 ],
 "metadata": {
  "kernelspec": {
   "display_name": "Python 3 (ipykernel)",
   "language": "python",
   "name": "python3"
  },
  "language_info": {
   "codemirror_mode": {
    "name": "ipython",
    "version": 3
   },
   "file_extension": ".py",
   "mimetype": "text/x-python",
   "name": "python",
   "nbconvert_exporter": "python",
   "pygments_lexer": "ipython3",
   "version": "3.10.9"
  }
 },
 "nbformat": 4,
 "nbformat_minor": 5
}
