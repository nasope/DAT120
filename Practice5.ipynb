{
 "cells": [
  {
   "cell_type": "code",
   "execution_count": 2,
   "id": "bad8b9c5-05bf-49e6-9ec0-6dba067c2198",
   "metadata": {
    "tags": []
   },
   "outputs": [],
   "source": [
    "import turtle\n",
    "import math"
   ]
  },
  {
   "cell_type": "code",
   "execution_count": 3,
   "id": "35eb8c01-752a-4a0d-99c7-36ff73167c18",
   "metadata": {},
   "outputs": [],
   "source": [
    "def drawSquare(length: int) -> None:\n",
    "    colors = [\"yellow\",\"red\",\"blue\",\"green\"]\n",
    "    turtle.pendown()\n",
    "    \n",
    "    for i in range(4):\n",
    "        turtle.color(colors[i])\n",
    "        turtle.forward(length)\n",
    "        turtle.left(90)\n",
    "    turtle.penup()\n",
    "    return"
   ]
  },
  {
   "cell_type": "code",
   "execution_count": 4,
   "id": "c2037c6c-eb86-402a-9407-5c1fd71859cc",
   "metadata": {
    "tags": []
   },
   "outputs": [],
   "source": [
    "def drawSpiral(minimum: int, maximum: int, increment: int, size: int) -> None:\n",
    "    turtle.penup()\n",
    "    \n",
    "    for i in range(minimum, maximum, increment):\n",
    "        XY = (size*i)/math.sqrt(2)#Distance from orign where the square should be, based on the size\n",
    "        theta = -math.radians(i-minimum+45)\n",
    "        turtle.setheading(math.degrees(theta)+135)#Angle based on origin to draw the square with its origin in (0,0)\n",
    "\n",
    "        x,y = (math.cos(theta)*XY, math.sin(theta)*XY)\n",
    "        turtle.goto(x,y)\n",
    "    \n",
    "        drawSquare(size*i)\n",
    "    return"
   ]
  },
  {
   "cell_type": "code",
   "execution_count": 5,
   "id": "9c5e064d-4db0-4dcf-9e0c-ca345c764723",
   "metadata": {},
   "outputs": [],
   "source": [
    "turtle.bgcolor(\"black\")\n",
    "turtle.width(3)\n",
    "turtle.speed(0)\n",
    "turtle.hideturtle()\n",
    "\n",
    "drawSpiral(12,400,12,1)\n",
    "turtle.done()"
   ]
  }
 ],
 "metadata": {
  "kernelspec": {
   "display_name": "Python 3 (ipykernel)",
   "language": "python",
   "name": "python3"
  },
  "language_info": {
   "codemirror_mode": {
    "name": "ipython",
    "version": 3
   },
   "file_extension": ".py",
   "mimetype": "text/x-python",
   "name": "python",
   "nbconvert_exporter": "python",
   "pygments_lexer": "ipython3",
   "version": "3.10.9"
  }
 },
 "nbformat": 4,
 "nbformat_minor": 5
}
