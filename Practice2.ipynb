{
 "cells": [
  {
   "cell_type": "code",
   "execution_count": 36,
   "id": "16f0b2a8-1d74-4db1-8a01-c2df35040630",
   "metadata": {},
   "outputs": [],
   "source": [
    "import math"
   ]
  },
  {
   "cell_type": "code",
   "execution_count": 71,
   "id": "90864c9a-bce2-4c7e-aa5b-11cbfa51a3d3",
   "metadata": {},
   "outputs": [
    {
     "name": "stdin",
     "output_type": "stream",
     "text": [
      "Skriv inn massen:  100\n",
      "Skriv inn høyden:  100\n"
     ]
    },
    {
     "name": "stdout",
     "output_type": "stream",
     "text": [
      "Et objekt med massen 100.0kg satt på en høyde på 100.0m, vil ha en potensiell energi på 98100.0\n"
     ]
    }
   ],
   "source": [
    "g = 9.81#m/s^2\n",
    "\n",
    "def potential_energy(m,h):\n",
    "    return m*g*h\n",
    "\n",
    "m = float(input(\"Skriv inn massen: \"))\n",
    "h = float(input(\"Skriv inn høyden: \"))\n",
    "\n",
    "print(\"Et objekt med massen \"+str(m)+\"kg satt på en høyde på \"+str(h)+\"m, vil ha en potensiell energi på \"+str(round(potential_energy(m,h),2)))"
   ]
  },
  {
   "cell_type": "code",
   "execution_count": 73,
   "id": "e6fd2773-0587-45fb-b5ce-20f34eba98e7",
   "metadata": {},
   "outputs": [
    {
     "name": "stdin",
     "output_type": "stream",
     "text": [
      "Rekkevidden til din elbil i kilometer:  100\n",
      "Lengden til kjøreturen din i kilometer:  201\n"
     ]
    },
    {
     "name": "stdout",
     "output_type": "stream",
     "text": [
      "Du trenger 3 ladinger\n"
     ]
    }
   ],
   "source": [
    "rekkevidde_km_str = input(\"Rekkevidden til din elbil i kilometer: \")\n",
    "tur_lengde_km_str = input(\"Lengden til kjøreturen din i kilometer: \")\n",
    "rekkevidde_km = int(rekkevidde_km_str)\n",
    "tur_lengde_km = int(tur_lengde_km_str)\n",
    "\n",
    "antall_ladinger = 0\n",
    "total = 0\n",
    "\n",
    "batteri = rekkevidde_km\n",
    "\n",
    "highest = rekkevidde_km*0.8\n",
    "lowest = rekkevidde_km*0.2\n",
    "\n",
    "while True:\n",
    "    cost = batteri-lowest\n",
    "    total += cost\n",
    "    \n",
    "    if(antall_ladinger == 0):\n",
    "        batteri = highest\n",
    "    \n",
    "    if(total >= tur_lengde_km):\n",
    "        break\n",
    "        \n",
    "    antall_ladinger += 1\n",
    "\n",
    "tur_rekkevidde_forhold = tur_lengde_km / rekkevidde_km\n",
    "\n",
    "if (tur_rekkevidde_forhold <= 0.8):\n",
    "    print(\"Du trenger ikke å lade\")\n",
    "else:\n",
    "    print(f\"Du trenger {antall_ladinger} ladinger\")\n"
   ]
  },
  {
   "cell_type": "code",
   "execution_count": 1,
   "id": "12a97294-0acc-4f1d-b6fe-5f4897bd2232",
   "metadata": {},
   "outputs": [
    {
     "name": "stdin",
     "output_type": "stream",
     "text": [
      "Skriv inn antall sekunder 3000\n"
     ]
    },
    {
     "name": "stdout",
     "output_type": "stream",
     "text": [
      "I standard format vil dette være 0:50:0\n"
     ]
    }
   ],
   "source": [
    "def secondsToStandard(tid):\n",
    "    timer = tid//3600\n",
    "    minutter = tid//60 - timer*60\n",
    "    sekunder = tid - timer*3600 - minutter*60\n",
    "    return str(timer)+\":\"+str(minutter)+\":\"+str(sekunder)\n",
    "\n",
    "tid = int(input(\"Skriv inn antall sekunder\"))\n",
    "print(\"I standard format vil dette være \"+secondsToStandard(tid))\n",
    "    "
   ]
  },
  {
   "cell_type": "code",
   "execution_count": 76,
   "id": "11b077fa-a563-4b39-a3e5-6cc60c033377",
   "metadata": {},
   "outputs": [
    {
     "name": "stdout",
     "output_type": "stream",
     "text": [
      "385\n"
     ]
    }
   ],
   "source": [
    "s = 0\n",
    "for n in range(1,10+1):\n",
    "    s += n**2\n",
    "print(s)\n"
   ]
  },
  {
   "cell_type": "code",
   "execution_count": 77,
   "id": "62420291-52e6-47d6-899b-2eb330e58288",
   "metadata": {},
   "outputs": [
    {
     "name": "stdin",
     "output_type": "stream",
     "text": [
      "Skriv inn navnet på den første valutaen NOK\n",
      "Skriv inn navnet på den andre valutaen DKK\n",
      "Skriv inn kursen fra NOK til DKK:  2\n"
     ]
    },
    {
     "name": "stdout",
     "output_type": "stream",
     "text": [
      "Skriv inn 0 når du ønsker å avslutte programmet\n"
     ]
    },
    {
     "name": "stdin",
     "output_type": "stream",
     "text": [
      "Skriv inn en verdi du ønsker å konvertere:  1\n"
     ]
    },
    {
     "name": "stdout",
     "output_type": "stream",
     "text": [
      "1 NOK blir til 2.0 DKK\n"
     ]
    },
    {
     "name": "stdin",
     "output_type": "stream",
     "text": [
      "Skriv inn en verdi du ønsker å konvertere:  20\n"
     ]
    },
    {
     "name": "stdout",
     "output_type": "stream",
     "text": [
      "20 NOK blir til 40.0 DKK\n"
     ]
    },
    {
     "name": "stdin",
     "output_type": "stream",
     "text": [
      "Skriv inn en verdi du ønsker å konvertere:  0\n"
     ]
    },
    {
     "name": "stdout",
     "output_type": "stream",
     "text": [
      "Program avsulttet\n"
     ]
    }
   ],
   "source": [
    "valuta1 = input(\"Skriv inn navnet på den første valutaen\")\n",
    "valuta2 = input(\"Skriv inn navnet på den andre valutaen\")\n",
    "kursen = float(input(\"Skriv inn kursen fra \"+str(valuta1)+\" til \"+str(valuta2)+\": \"))\n",
    "\n",
    "print(\"Skriv inn 0 når du ønsker å avslutte programmet\")\n",
    "while True:\n",
    "    val = input(\"Skriv inn en verdi du ønsker å konvertere: \")\n",
    "    if val == \"0\":\n",
    "        break\n",
    "    \n",
    "    print(val+\" \"+valuta1+\" blir til \"+str(float(val)*kursen)+\" \"+valuta2)\n",
    "\n",
    "print(\"Program avsulttet\")"
   ]
  },
  {
   "cell_type": "code",
   "execution_count": null,
   "id": "11810127-af93-4c14-b5fa-5706e568f96c",
   "metadata": {},
   "outputs": [],
   "source": []
  }
 ],
 "metadata": {
  "kernelspec": {
   "display_name": "Python 3 (ipykernel)",
   "language": "python",
   "name": "python3"
  },
  "language_info": {
   "codemirror_mode": {
    "name": "ipython",
    "version": 3
   },
   "file_extension": ".py",
   "mimetype": "text/x-python",
   "name": "python",
   "nbconvert_exporter": "python",
   "pygments_lexer": "ipython3",
   "version": "3.10.9"
  }
 },
 "nbformat": 4,
 "nbformat_minor": 5
}
