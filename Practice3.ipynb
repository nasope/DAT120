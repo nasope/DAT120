{
 "cells": [
  {
   "cell_type": "code",
   "execution_count": null,
   "id": "eb23a318-eba5-4086-9e5a-51f10e10468f",
   "metadata": {},
   "outputs": [],
   "source": [
    "def PostGenerator(navn, gateAdr, postNr, poststed):\n",
    "    print(navn)\n",
    "    print(gateAdr)\n",
    "    print(postNr,poststed)\n",
    "\n",
    "PostGenerator(\"Nathaniel\", \"Grinigata 10 D\", 4317, \"SANDNES\")"
   ]
  },
  {
   "cell_type": "code",
   "execution_count": null,
   "id": "6e5ea3da-c220-430b-ae06-40704d376b88",
   "metadata": {},
   "outputs": [],
   "source": [
    "def NmTilKm(avstand: float):\n",
    "    NAUTISK_MIL_I_KM = 1.852#Km\n",
    "    return (avstand / NAUTISK_MIL_I_KM)"
   ]
  },
  {
   "cell_type": "code",
   "execution_count": null,
   "id": "dc342dda-bd69-45c4-8edf-253674ed7fdf",
   "metadata": {},
   "outputs": [],
   "source": [
    "print(\"Dette er et program som konverterer et tall fra Km til Nm\")\n",
    "print(\"Skriv inn tallet 0, for å avsultte programmet\")\n",
    "\n",
    "while True:\n",
    "    avstand = float(input(\"Skriv inn en avstand målt i km: \"))\n",
    "    if avstand == 0:\n",
    "        break\n",
    "    print(\"Dette blir til \"+str(NmTilKm(avstand))+\"Nm\")"
   ]
  },
  {
   "cell_type": "code",
   "execution_count": null,
   "id": "da419178-71e7-4959-beed-941cbc86cf50",
   "metadata": {},
   "outputs": [],
   "source": [
    "import math\n",
    "\n",
    "def e(x, M):\n",
    "    summen = 0\n",
    "    for n in range(M+1):\n",
    "        summen += x**n / math.factorial(n)\n",
    "    return summen"
   ]
  },
  {
   "cell_type": "code",
   "execution_count": null,
   "id": "bceaf7bd-8235-4e51-9d2a-46c823c577fd",
   "metadata": {},
   "outputs": [],
   "source": [
    "def difference(a):\n",
    "    e = math.e\n",
    "    print(\"differansen mellom \"+str(a)+\" og e er \"+str(e-a))\n",
    "    return\n",
    "\n",
    "difference(math.sqrt(e(2,40)))\n",
    "print()\n",
    "\n",
    "for m in range(1,100):\n",
    "    print(\"der m er\",m)\n",
    "    difference(math.sqrt(e(2,m)))"
   ]
  },
  {
   "cell_type": "code",
   "execution_count": null,
   "id": "e21ca089-1803-4ee2-8220-da0fb87c79c0",
   "metadata": {},
   "outputs": [],
   "source": [
    "def perfektTall(n):\n",
    "    summen = 0\n",
    "    for i in range(1,int(n/2)+1):\n",
    "        if n%i == 0:\n",
    "            summen += i\n",
    "    if summen == n:\n",
    "        return True\n",
    "    return False"
   ]
  },
  {
   "cell_type": "code",
   "execution_count": null,
   "id": "36402880-cbce-4c25-857c-76a2078bede6",
   "metadata": {},
   "outputs": [],
   "source": [
    "print(\"Skriv inn tallet 0 for å stanse programmet\")\n",
    "\n",
    "while True:\n",
    "    n = int(input(\"Skriv inn et heltall: \"))\n",
    "    \n",
    "    if n == 0:\n",
    "        break\n",
    "    \n",
    "    if perfektTall(n):\n",
    "        print(\"Tallet \"+str(n)+\" er et perfekt tall\")\n",
    "    else:\n",
    "        print(\"Tallet \"+str(n)+\" er ikke et perfekt tall\")"
   ]
  },
  {
   "cell_type": "code",
   "execution_count": null,
   "id": "0687bdc6-642e-4d60-980e-d325f9caa628",
   "metadata": {},
   "outputs": [],
   "source": []
  }
 ],
 "metadata": {
  "kernelspec": {
   "display_name": "Python 3 (ipykernel)",
   "language": "python",
   "name": "python3"
  },
  "language_info": {
   "codemirror_mode": {
    "name": "ipython",
    "version": 3
   },
   "file_extension": ".py",
   "mimetype": "text/x-python",
   "name": "python",
   "nbconvert_exporter": "python",
   "pygments_lexer": "ipython3",
   "version": "3.10.9"
  }
 },
 "nbformat": 4,
 "nbformat_minor": 5
}
