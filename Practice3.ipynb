{
 "cells": [
  {
   "cell_type": "code",
   "execution_count": 1,
   "id": "eb23a318-eba5-4086-9e5a-51f10e10468f",
   "metadata": {},
   "outputs": [
    {
     "name": "stdout",
     "output_type": "stream",
     "text": [
      "Nathaniel\n",
      "Grinigata 10 D\n",
      "4317 SANDNES\n"
     ]
    }
   ],
   "source": [
    "def PostGenerator(navn, gateAdr, postNr, poststed):\n",
    "    print(navn)\n",
    "    print(gateAdr)\n",
    "    print(postNr,poststed)\n",
    "\n",
    "PostGenerator(\"Nathaniel\", \"Grinigata 10 D\", 4317, \"SANDNES\")"
   ]
  },
  {
   "cell_type": "code",
   "execution_count": 4,
   "id": "6e5ea3da-c220-430b-ae06-40704d376b88",
   "metadata": {},
   "outputs": [],
   "source": [
    "def NmTilKm(avstand: float):\n",
    "    NAUTISK_MIL_I_KM = 1.852#Km\n",
    "    return (avstand / NAUTISK_MIL_I_KM)"
   ]
  },
  {
   "cell_type": "code",
   "execution_count": 7,
   "id": "dc342dda-bd69-45c4-8edf-253674ed7fdf",
   "metadata": {},
   "outputs": [
    {
     "name": "stdout",
     "output_type": "stream",
     "text": [
      "Dette er et program som konverterer et tall fra Km til Nm\n",
      "Skriv inn tallet 0, for å avsultte programmet\n"
     ]
    },
    {
     "name": "stdin",
     "output_type": "stream",
     "text": [
      "Skriv inn en avstand målt i km:  10\n"
     ]
    },
    {
     "name": "stdout",
     "output_type": "stream",
     "text": [
      "Dette blir til 5.399568034557235Nm\n"
     ]
    },
    {
     "name": "stdin",
     "output_type": "stream",
     "text": [
      "Skriv inn en avstand målt i km:  10\n"
     ]
    },
    {
     "name": "stdout",
     "output_type": "stream",
     "text": [
      "Dette blir til 5.399568034557235Nm\n"
     ]
    },
    {
     "name": "stdin",
     "output_type": "stream",
     "text": [
      "Skriv inn en avstand målt i km:  0\n"
     ]
    }
   ],
   "source": [
    "print(\"Dette er et program som konverterer et tall fra Km til Nm\")\n",
    "print(\"Skriv inn tallet 0, for å avsultte programmet\")\n",
    "\n",
    "while True:\n",
    "    avstand = float(input(\"Skriv inn en avstand målt i km: \"))\n",
    "    if avstand == 0:\n",
    "        break\n",
    "    print(\"Dette blir til \"+str(NmTilKm(avstand))+\"Nm\")"
   ]
  },
  {
   "cell_type": "code",
   "execution_count": 18,
   "id": "da419178-71e7-4959-beed-941cbc86cf50",
   "metadata": {},
   "outputs": [],
   "source": [
    "import math\n",
    "\n",
    "def e(x, M):\n",
    "    summen = 0\n",
    "    for n in range(M+1):\n",
    "        summen += x**n / math.factorial(n)\n",
    "    return summen"
   ]
  },
  {
   "cell_type": "code",
   "execution_count": 34,
   "id": "bceaf7bd-8235-4e51-9d2a-46c823c577fd",
   "metadata": {},
   "outputs": [
    {
     "name": "stdout",
     "output_type": "stream",
     "text": [
      "differansen mellom 2.718281828459045 og e er 0.0\n",
      "\n",
      "der m er 1\n",
      "differansen mellom 1.7320508075688772 og e er 0.9862310208901679\n",
      "der m er 2\n",
      "differansen mellom 2.23606797749979 og e er 0.4822138509592553\n",
      "der m er 3\n",
      "differansen mellom 2.516611478423583 og e er 0.20167035003546196\n",
      "der m er 4\n",
      "differansen mellom 2.6457513110645907 og e er 0.07253051739445437\n",
      "der m er 5\n",
      "differansen mellom 2.695675549220764 og e er 0.02260627923828107\n",
      "der m er 6\n",
      "differansen mellom 2.7121127475743987 og e er 0.006169080884646405\n",
      "der m er 7\n",
      "differansen mellom 2.7167908239230307 og e er 0.001491004536014362\n",
      "der m er 8\n",
      "differansen mellom 2.717959084920446 og e er 0.0003227435385992905\n",
      "der m er 9\n",
      "differansen mellom 2.718218630288199 og e er 6.319817084587953e-05\n",
      "der m er 10\n",
      "differansen mellom 2.718270536387927 og e er 1.1292071118162994e-05\n",
      "der m er 11\n",
      "differansen mellom 2.718279973754117 og e er 1.8547049283057504e-06\n",
      "der m er 12\n",
      "differansen mellom 2.7182815466452963 og e er 2.818137487814454e-07\n",
      "der m er 13\n",
      "differansen mellom 2.718281788628474 og e er 3.9830571285648375e-08\n",
      "der m er 14\n",
      "differansen mellom 2.7182818231974974 og e er 5.261547642021469e-09\n",
      "der m er 15\n",
      "differansen mellom 2.7182818278067002 og e er 6.523448448092495e-10\n",
      "der m er 16\n",
      "differansen mellom 2.718281828382851 og e er 7.619416209081464e-11\n",
      "der m er 17\n",
      "differansen mellom 2.718281828450633 og e er 8.411937812979886e-12\n",
      "der m er 18\n",
      "differansen mellom 2.718281828458165 og e er 8.801848139228241e-13\n",
      "der m er 19\n",
      "differansen mellom 2.7182818284589576 og e er 8.748557434046234e-14\n",
      "der m er 20\n",
      "differansen mellom 2.7182818284590367 og e er 8.43769498715119e-15\n",
      "der m er 21\n",
      "differansen mellom 2.718281828459044 og e er 8.881784197001252e-16\n",
      "der m er 22\n",
      "differansen mellom 2.718281828459045 og e er 0.0\n",
      "der m er 23\n",
      "differansen mellom 2.718281828459045 og e er 0.0\n",
      "der m er 24\n",
      "differansen mellom 2.718281828459045 og e er 0.0\n",
      "der m er 25\n",
      "differansen mellom 2.718281828459045 og e er 0.0\n",
      "der m er 26\n",
      "differansen mellom 2.718281828459045 og e er 0.0\n",
      "der m er 27\n",
      "differansen mellom 2.718281828459045 og e er 0.0\n",
      "der m er 28\n",
      "differansen mellom 2.718281828459045 og e er 0.0\n",
      "der m er 29\n",
      "differansen mellom 2.718281828459045 og e er 0.0\n",
      "der m er 30\n",
      "differansen mellom 2.718281828459045 og e er 0.0\n",
      "der m er 31\n",
      "differansen mellom 2.718281828459045 og e er 0.0\n",
      "der m er 32\n",
      "differansen mellom 2.718281828459045 og e er 0.0\n",
      "der m er 33\n",
      "differansen mellom 2.718281828459045 og e er 0.0\n",
      "der m er 34\n",
      "differansen mellom 2.718281828459045 og e er 0.0\n",
      "der m er 35\n",
      "differansen mellom 2.718281828459045 og e er 0.0\n",
      "der m er 36\n",
      "differansen mellom 2.718281828459045 og e er 0.0\n",
      "der m er 37\n",
      "differansen mellom 2.718281828459045 og e er 0.0\n",
      "der m er 38\n",
      "differansen mellom 2.718281828459045 og e er 0.0\n",
      "der m er 39\n",
      "differansen mellom 2.718281828459045 og e er 0.0\n",
      "der m er 40\n",
      "differansen mellom 2.718281828459045 og e er 0.0\n",
      "der m er 41\n",
      "differansen mellom 2.718281828459045 og e er 0.0\n",
      "der m er 42\n",
      "differansen mellom 2.718281828459045 og e er 0.0\n",
      "der m er 43\n",
      "differansen mellom 2.718281828459045 og e er 0.0\n",
      "der m er 44\n",
      "differansen mellom 2.718281828459045 og e er 0.0\n",
      "der m er 45\n",
      "differansen mellom 2.718281828459045 og e er 0.0\n",
      "der m er 46\n",
      "differansen mellom 2.718281828459045 og e er 0.0\n",
      "der m er 47\n",
      "differansen mellom 2.718281828459045 og e er 0.0\n",
      "der m er 48\n",
      "differansen mellom 2.718281828459045 og e er 0.0\n",
      "der m er 49\n",
      "differansen mellom 2.718281828459045 og e er 0.0\n",
      "der m er 50\n",
      "differansen mellom 2.718281828459045 og e er 0.0\n",
      "der m er 51\n",
      "differansen mellom 2.718281828459045 og e er 0.0\n",
      "der m er 52\n",
      "differansen mellom 2.718281828459045 og e er 0.0\n",
      "der m er 53\n",
      "differansen mellom 2.718281828459045 og e er 0.0\n",
      "der m er 54\n",
      "differansen mellom 2.718281828459045 og e er 0.0\n",
      "der m er 55\n",
      "differansen mellom 2.718281828459045 og e er 0.0\n",
      "der m er 56\n",
      "differansen mellom 2.718281828459045 og e er 0.0\n",
      "der m er 57\n",
      "differansen mellom 2.718281828459045 og e er 0.0\n",
      "der m er 58\n",
      "differansen mellom 2.718281828459045 og e er 0.0\n",
      "der m er 59\n",
      "differansen mellom 2.718281828459045 og e er 0.0\n",
      "der m er 60\n",
      "differansen mellom 2.718281828459045 og e er 0.0\n",
      "der m er 61\n",
      "differansen mellom 2.718281828459045 og e er 0.0\n",
      "der m er 62\n",
      "differansen mellom 2.718281828459045 og e er 0.0\n",
      "der m er 63\n",
      "differansen mellom 2.718281828459045 og e er 0.0\n",
      "der m er 64\n",
      "differansen mellom 2.718281828459045 og e er 0.0\n",
      "der m er 65\n",
      "differansen mellom 2.718281828459045 og e er 0.0\n",
      "der m er 66\n",
      "differansen mellom 2.718281828459045 og e er 0.0\n",
      "der m er 67\n",
      "differansen mellom 2.718281828459045 og e er 0.0\n",
      "der m er 68\n",
      "differansen mellom 2.718281828459045 og e er 0.0\n",
      "der m er 69\n",
      "differansen mellom 2.718281828459045 og e er 0.0\n",
      "der m er 70\n",
      "differansen mellom 2.718281828459045 og e er 0.0\n",
      "der m er 71\n",
      "differansen mellom 2.718281828459045 og e er 0.0\n",
      "der m er 72\n",
      "differansen mellom 2.718281828459045 og e er 0.0\n",
      "der m er 73\n",
      "differansen mellom 2.718281828459045 og e er 0.0\n",
      "der m er 74\n",
      "differansen mellom 2.718281828459045 og e er 0.0\n",
      "der m er 75\n",
      "differansen mellom 2.718281828459045 og e er 0.0\n",
      "der m er 76\n",
      "differansen mellom 2.718281828459045 og e er 0.0\n",
      "der m er 77\n",
      "differansen mellom 2.718281828459045 og e er 0.0\n",
      "der m er 78\n",
      "differansen mellom 2.718281828459045 og e er 0.0\n",
      "der m er 79\n",
      "differansen mellom 2.718281828459045 og e er 0.0\n",
      "der m er 80\n",
      "differansen mellom 2.718281828459045 og e er 0.0\n",
      "der m er 81\n",
      "differansen mellom 2.718281828459045 og e er 0.0\n",
      "der m er 82\n",
      "differansen mellom 2.718281828459045 og e er 0.0\n",
      "der m er 83\n",
      "differansen mellom 2.718281828459045 og e er 0.0\n",
      "der m er 84\n",
      "differansen mellom 2.718281828459045 og e er 0.0\n",
      "der m er 85\n",
      "differansen mellom 2.718281828459045 og e er 0.0\n",
      "der m er 86\n",
      "differansen mellom 2.718281828459045 og e er 0.0\n",
      "der m er 87\n",
      "differansen mellom 2.718281828459045 og e er 0.0\n",
      "der m er 88\n",
      "differansen mellom 2.718281828459045 og e er 0.0\n",
      "der m er 89\n",
      "differansen mellom 2.718281828459045 og e er 0.0\n",
      "der m er 90\n",
      "differansen mellom 2.718281828459045 og e er 0.0\n",
      "der m er 91\n",
      "differansen mellom 2.718281828459045 og e er 0.0\n",
      "der m er 92\n",
      "differansen mellom 2.718281828459045 og e er 0.0\n",
      "der m er 93\n",
      "differansen mellom 2.718281828459045 og e er 0.0\n",
      "der m er 94\n",
      "differansen mellom 2.718281828459045 og e er 0.0\n",
      "der m er 95\n",
      "differansen mellom 2.718281828459045 og e er 0.0\n",
      "der m er 96\n",
      "differansen mellom 2.718281828459045 og e er 0.0\n",
      "der m er 97\n",
      "differansen mellom 2.718281828459045 og e er 0.0\n",
      "der m er 98\n",
      "differansen mellom 2.718281828459045 og e er 0.0\n",
      "der m er 99\n",
      "differansen mellom 2.718281828459045 og e er 0.0\n"
     ]
    }
   ],
   "source": [
    "def difference(a):\n",
    "    e = math.e\n",
    "    print(\"differansen mellom \"+str(a)+\" og e er \"+str(e-a))\n",
    "    return\n",
    "\n",
    "difference(math.sqrt(e(2,40)))\n",
    "print()\n",
    "\n",
    "for m in range(1,100):\n",
    "    print(\"der m er\",m)\n",
    "    difference(math.sqrt(e(2,m)))"
   ]
  },
  {
   "cell_type": "code",
   "execution_count": 87,
   "id": "e21ca089-1803-4ee2-8220-da0fb87c79c0",
   "metadata": {},
   "outputs": [],
   "source": [
    "def perfektTall(n):\n",
    "    summen = 0\n",
    "    for i in range(1,int(n/2)+1):\n",
    "        if n%i == 0:\n",
    "            summen += i\n",
    "    if summen == n:\n",
    "        return True\n",
    "    return False"
   ]
  },
  {
   "cell_type": "code",
   "execution_count": 90,
   "id": "36402880-cbce-4c25-857c-76a2078bede6",
   "metadata": {},
   "outputs": [
    {
     "name": "stdout",
     "output_type": "stream",
     "text": [
      "Skriv inn tallet 0 for å stanse programmet\n"
     ]
    },
    {
     "name": "stdin",
     "output_type": "stream",
     "text": [
      "Skriv inn et heltall:  10\n"
     ]
    },
    {
     "name": "stdout",
     "output_type": "stream",
     "text": [
      "Tallet 10 er ikke et perfekt tall\n"
     ]
    },
    {
     "name": "stdin",
     "output_type": "stream",
     "text": [
      "Skriv inn et heltall:  6\n"
     ]
    },
    {
     "name": "stdout",
     "output_type": "stream",
     "text": [
      "Tallet 6 er et perfekt tall\n"
     ]
    },
    {
     "name": "stdin",
     "output_type": "stream",
     "text": [
      "Skriv inn et heltall:  10\n"
     ]
    },
    {
     "name": "stdout",
     "output_type": "stream",
     "text": [
      "Tallet 10 er ikke et perfekt tall\n"
     ]
    },
    {
     "name": "stdin",
     "output_type": "stream",
     "text": [
      "Skriv inn et heltall:  28\n"
     ]
    },
    {
     "name": "stdout",
     "output_type": "stream",
     "text": [
      "Tallet 28 er et perfekt tall\n"
     ]
    },
    {
     "name": "stdin",
     "output_type": "stream",
     "text": [
      "Skriv inn et heltall:  0\n"
     ]
    }
   ],
   "source": [
    "print(\"Skriv inn tallet 0 for å stanse programmet\")\n",
    "\n",
    "while True:\n",
    "    n = int(input(\"Skriv inn et heltall: \"))\n",
    "    \n",
    "    if n == 0:\n",
    "        break\n",
    "    \n",
    "    if perfektTall(n):\n",
    "        print(\"Tallet \"+str(n)+\" er et perfekt tall\")\n",
    "    else:\n",
    "        print(\"Tallet \"+str(n)+\" er ikke et perfekt tall\")"
   ]
  },
  {
   "cell_type": "code",
   "execution_count": null,
   "id": "0687bdc6-642e-4d60-980e-d325f9caa628",
   "metadata": {},
   "outputs": [],
   "source": []
  }
 ],
 "metadata": {
  "kernelspec": {
   "display_name": "Python 3 (ipykernel)",
   "language": "python",
   "name": "python3"
  },
  "language_info": {
   "codemirror_mode": {
    "name": "ipython",
    "version": 3
   },
   "file_extension": ".py",
   "mimetype": "text/x-python",
   "name": "python",
   "nbconvert_exporter": "python",
   "pygments_lexer": "ipython3",
   "version": "3.10.9"
  }
 },
 "nbformat": 4,
 "nbformat_minor": 5
}
